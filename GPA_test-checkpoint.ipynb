{
 "cells": [
  {
   "cell_type": "code",
   "execution_count": 2,
   "id": "5093ee73-4271-4502-816a-98d43e8c789c",
   "metadata": {},
   "outputs": [],
   "source": [
    "# Subject mark with credit = 2\n",
    "sub_mark2 = {\"MLN122\":8.3, \"MLN131\": 0, \"VNR202\": 0, \"HCM202\": 0}"
   ]
  },
  {
   "cell_type": "code",
   "execution_count": 3,
   "id": "039803e1-885d-4522-9123-266ebdd37d90",
   "metadata": {},
   "outputs": [],
   "source": [
    "# Subject mark with credit = 3\n",
    "sub_mark3 = {\"TMI101\": 7.7, \"SSL101c\": 7.1, \"CSI104\": 8.1, \"PRF192\": 6.3, \"MAE101\": 8.3,\n",
    "    \"CEA201\": 8.6, \"PRO192\": 5.6, \"MAD101\": 7.4, \"OSG202\": 8.8, \"NWC203c\": 6.3,\n",
    "    \"SSG104\": 8.1, \"PRP201c\": 0, \"JPD113\": 6.7, \"CSD201\": 5.7, \"DBI202\": 6.9,\n",
    "    \"MAS291\": 7.8, \"JPD123\": 7, \"IOT102\": 8.2, \"AIG201c\": 10, \"MAI391\": 7.8, \"DWP301c\": 0,\n",
    "    \"ITE302c\": 7.8, \"DGT301\": 9.3, \"CSD301\": 8, \"AIL302m\": 7.9, \"ENW492c\": 5.3,\n",
    "    \"DPL301m\": 8.6, \"EXE101\": 9.5, \"IMP301\": 9, \"NLP301c\": 0, \"MLN111\": 8.4, \"PMG202c\": 0, \n",
    "    \"DBM301\": 9.1, \"EXE201\": 7.9}"
   ]
  },
  {
   "cell_type": "code",
   "execution_count": 4,
   "id": "ae4b88aa-0986-4c85-b46a-93ad9db2fe67",
   "metadata": {},
   "outputs": [],
   "source": [
    "# Subject mark with credit = 6\n",
    "sub_mark6 = {\"BDI301c\": 9.5}"
   ]
  },
  {
   "cell_type": "code",
   "execution_count": 5,
   "id": "e66b336e-fe6b-46ef-a87a-25e1b8d50939",
   "metadata": {},
   "outputs": [],
   "source": [
    "# Subject mark with credit = 10\n",
    "sub_mark10 = {\"AIP490\": 0}"
   ]
  },
  {
   "cell_type": "code",
   "execution_count": 6,
   "id": "4d56f1aa-59b3-4f13-a777-480e8e32f417",
   "metadata": {},
   "outputs": [],
   "source": [
    "# Function to return exactly number of subjects had mark (if mark = 0, the length of each dict sub_mark will down 1)\n",
    "def NOS(sub_mark):\n",
    "    total_subject = len(sub_mark)\n",
    "    mark_arr = sub_mark.values()\n",
    "    for mark in mark_arr:\n",
    "        if mark == 0:\n",
    "            total_subject -= 1\n",
    "    return total_subject"
   ]
  },
  {
   "cell_type": "code",
   "execution_count": 7,
   "id": "a0eb549a-e6f6-4129-912e-1160cd7a14ac",
   "metadata": {},
   "outputs": [],
   "source": [
    "# Function to return the Number of credits\n",
    "def NOC():\n",
    "    cred2 = NOS(sub_mark2) * 2\n",
    "    cred3 = NOS(sub_mark3) * 3\n",
    "    cred6 = NOS(sub_mark6) * 6\n",
    "    cred10 = NOS(sub_mark10) * 10\n",
    "    noc = sum([cred2, cred3, cred6, cred10])\n",
    "    return noc"
   ]
  },
  {
   "cell_type": "code",
   "execution_count": 8,
   "id": "7178a479-76b2-4a15-846e-8312f6602636",
   "metadata": {},
   "outputs": [],
   "source": [
    "# Function to return GPA\n",
    "def GPA():\n",
    "    total_marks = 0\n",
    "    total_credits = 0\n",
    "\n",
    "    for sub_marks, credit in [(sub_mark2, 2), (sub_mark3, 3), (sub_mark6, 6), (sub_mark10, 10)]:\n",
    "        for subject, mark in sub_marks.items():\n",
    "            if mark != 0:\n",
    "                total_marks += mark * credit\n",
    "                total_credits += credit\n",
    "\n",
    "    gpa = total_marks / total_credits\n",
    "    print(\"GPA:\", gpa)"
   ]
  },
  {
   "cell_type": "code",
   "execution_count": 9,
   "id": "b6c7e4e2-47bd-4e69-a6b1-e15e41d184cd",
   "metadata": {},
   "outputs": [
    {
     "name": "stdout",
     "output_type": "stream",
     "text": [
      "GPA: 7.889795918367346\n"
     ]
    }
   ],
   "source": [
    "GPA()"
   ]
  }
 ],
 "metadata": {
  "kernelspec": {
   "display_name": "Python 3 (ipykernel)",
   "language": "python",
   "name": "python3"
  },
  "language_info": {
   "codemirror_mode": {
    "name": "ipython",
    "version": 3
   },
   "file_extension": ".py",
   "mimetype": "text/x-python",
   "name": "python",
   "nbconvert_exporter": "python",
   "pygments_lexer": "ipython3",
   "version": "3.11.7"
  }
 },
 "nbformat": 4,
 "nbformat_minor": 5
}
